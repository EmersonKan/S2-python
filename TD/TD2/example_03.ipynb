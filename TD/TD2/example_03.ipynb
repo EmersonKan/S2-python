{
 "cells": [
  {
   "cell_type": "markdown",
   "metadata": {},
   "source": [
    "I. Prise en main\n",
    "\n",
    "1)"
   ]
  },
  {
   "cell_type": "code",
   "execution_count": 2,
   "metadata": {},
   "outputs": [],
   "source": [
    "from tkinter import *\n",
    "\n",
    "CANVAS_WIDTH, CANVAS_HEIGHT = 600, 400\n",
    "\n",
    "if __name__ == '__main__':\n",
    "    root = Tk()\n",
    "\n",
    "    canvas = Canvas(root, width = CANVAS_WIDTH, height = CANVAS_HEIGHT)\n",
    "\n",
    "    # Début de votre code\n",
    "    x0 = 100\n",
    "    x1 = CANVAS_WIDTH - 100\n",
    "    y = CANVAS_HEIGHT / 2\n",
    "    canvas.create_line(x0, y, x1, y)\n",
    "    canvas.create_oval(x0 - 50, y + 50, x0 + 50, y - 50)\n",
    "    canvas.create_oval(x1 - 50, y + 50, x1 + 50, y - 50)\n",
    "    canvas.create_oval((x0 + x1) / 2 - 50, y + 50, (x0 + x1) / 2 + 50, y - 50)\n",
    "    \n",
    "    # Fin de votre code\n",
    "\n",
    "    canvas.pack()\n",
    "    root.mainloop()"
   ]
  },
  {
   "cell_type": "markdown",
   "metadata": {},
   "source": [
    "2) \n",
    "3) avec la condition, cela permet de vérifier si il s'agit de notre programme principal"
   ]
  },
  {
   "cell_type": "code",
   "execution_count": 16,
   "metadata": {},
   "outputs": [],
   "source": [
    "from tkinter import *\n",
    "\n",
    "CANVAS_WIDTH, CANVAS_HEIGHT = 600, 400\n",
    "\n",
    "root = Tk()\n",
    "\n",
    "canvas = Canvas(root, width = CANVAS_WIDTH, height = CANVAS_HEIGHT)\n",
    "\n",
    "    # Début de votre code\n",
    "x0 = 100\n",
    "x1 = CANVAS_WIDTH - 100\n",
    "y = CANVAS_HEIGHT / 2\n",
    "canvas.create_line(x0, y, x1, y)\n",
    "canvas.create_oval(x0 - 50, y + 50, x0 + 50, y - 50)\n",
    "canvas.create_oval(x1 - 50, y + 50, x1 + 50, y - 50)\n",
    "canvas.create_oval((x0 + x1) / 2 - 50, y + 50, (x0 + x1) / 2 + 50, y - 50)\n",
    "    \n",
    "    # Fin de votre code\n",
    "\n",
    "canvas.grid(row=1, column=1)\n",
    "root.mainloop()"
   ]
  },
  {
   "cell_type": "markdown",
   "metadata": {},
   "source": [
    "4) from ... import -> consomne plus car il import tout  / import ... as -> import seulement ce qu'on souhaite\n",
    "\n",
    "5)"
   ]
  },
  {
   "cell_type": "code",
   "execution_count": 22,
   "metadata": {},
   "outputs": [],
   "source": [
    "import tkinter as tk\n",
    "\n",
    "CANVAS_WIDTH, CANVAS_HEIGHT = 600, 600\n",
    "\n",
    "root = Tk()\n",
    "\n",
    "canvas = Canvas(root, width = CANVAS_WIDTH, height = CANVAS_HEIGHT)\n",
    "\n",
    "    # Début de votre code\n",
    "x0 = 100\n",
    "x1 = CANVAS_WIDTH - 100\n",
    "y = CANVAS_HEIGHT / 2\n",
    "canvas.create_line(y, x0, y, x1)\n",
    "canvas.create_oval(y - 50, x0 + 50, y + 50, x0 - 50)\n",
    "canvas.create_oval(y - 50, x1 + 50, y + 50, x1 - 50)\n",
    "canvas.create_oval((x0 + x1) / 2 - 50, y + 50, (x0 + x1) / 2 + 50, y - 50)\n",
    "    \n",
    "    # Fin de votre code\n",
    "\n",
    "canvas.grid(row=1, column=1)\n",
    "root.mainloop()"
   ]
  },
  {
   "cell_type": "markdown",
   "metadata": {},
   "source": [
    "II. Dessin aléatoire\n",
    "\n",
    "1)"
   ]
  },
  {
   "cell_type": "code",
   "execution_count": 23,
   "metadata": {},
   "outputs": [],
   "source": [
    "import tkinter as tk\n",
    "\n",
    "root =tk.Tk()\n",
    "root.minsize(600,600)\n",
    "root.title (\"Mon dessin\")\n",
    "fond_noir= tk.Canvas(root, width=200,height=200,bg =\"black\")\n",
    "bouton_cercle= tk.Button(root,text= \"Cercle\")\n",
    "bouton_carré= tk.Button(root, text=\"Carré\")\n",
    "bouton_croix= tk.Button(root, text=\"Croix\")\n",
    "bouton_couleur=tk.Button(root,text=\"Choisir une couleur\")\n",
    "\n",
    "fond_noir.grid(row=1,column=1, rowspan=4)\n",
    "bouton_cercle.grid(row=2,column=0)\n",
    "bouton_carré.grid(row=3, column=0)\n",
    "bouton_croix.grid(row=4, column=0)\n",
    "bouton_couleur.grid(row=0,column=1,)\n",
    "root.mainloop()\n",
    "\n",
    "\n",
    "\n"
   ]
  }
 ],
 "metadata": {
  "kernelspec": {
   "display_name": "Python 3",
   "language": "python",
   "name": "python3"
  },
  "language_info": {
   "codemirror_mode": {
    "name": "ipython",
    "version": 3
   },
   "file_extension": ".py",
   "mimetype": "text/x-python",
   "name": "python",
   "nbconvert_exporter": "python",
   "pygments_lexer": "ipython3",
   "version": "3.11.8"
  }
 },
 "nbformat": 4,
 "nbformat_minor": 2
}
